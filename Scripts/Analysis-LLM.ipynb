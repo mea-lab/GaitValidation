{
 "cells": [
  {
   "cell_type": "markdown",
   "id": "7dea9f0c-a120-4804-96d4-0859ca1964ad",
   "metadata": {},
   "source": [
    "# COMPARE DIFFERENCE "
   ]
  },
  {
   "cell_type": "code",
   "execution_count": null,
   "id": "7b859fcf-9e0d-4269-8338-c0c024a686a0",
   "metadata": {},
   "outputs": [],
   "source": [
    "import statsmodels.formula.api as smf\n",
    "import pandas as pd\n",
    "\n",
    "dependent_vars = [\n",
    "    \"avg_stancetime\", \"avg_swingtime\", \"avg_doublesupporttime\",\n",
    "    \"avg_steptime\", \"avg_steplength\", \"avg_velocity\", \"avg_cadence\"\n",
    "]\n",
    "\n",
    "df = pd.read_excel(r\"C:\\Users\\shuyu.liu\\OneDrive - University of Florida\\Documents\\GitHub\\GaitValidation\\LLM analysis\\large model\", sheet_name=\"Sheet1\")\n",
    "# Ensure 'group' and 'sex' are treated as categorical variables\n",
    "df['Group'] = df['Group'].astype('category')\n",
    "df['Gender'] = df['Gender'].astype('category')  # Assuming 'sex' is coded like 'Male'/'Female'\n",
    "# df['AGE_GROUP'] = df['AGE_GROUP'].astype('category')  # Assuming 'age_group' is coded like 'Young'/'Old'\n",
    "df = df.dropna(subset=['Age'])\n",
    "\n",
    "# Fit the linear mixed model\n",
    "for var in dependent_vars:\n",
    "# variable = dependent_vars[0]  # Change this to the desired dependent variable\n",
    "    model = smf.mixedlm(f\"{var} ~  Group + Age + Gender\", data=df, groups=df[\"ID\"])\n",
    "    result = model.fit()\n",
    "\n",
    "    # Show the summary\n",
    "    print(result.summary())"
   ]
  }
 ],
 "metadata": {
  "kernelspec": {
   "display_name": "Python 3 (ipykernel)",
   "language": "python",
   "name": "python3"
  },
  "language_info": {
   "codemirror_mode": {
    "name": "ipython",
    "version": 3
   },
   "file_extension": ".py",
   "mimetype": "text/x-python",
   "name": "python",
   "nbconvert_exporter": "python",
   "pygments_lexer": "ipython3",
   "version": "3.9.17"
  }
 },
 "nbformat": 4,
 "nbformat_minor": 5
}
